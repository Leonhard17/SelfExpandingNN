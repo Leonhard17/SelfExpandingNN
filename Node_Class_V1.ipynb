{
 "cells": [
  {
   "cell_type": "code",
   "execution_count": 36,
   "metadata": {},
   "outputs": [],
   "source": [
    "import jax\n",
    "import jax.numpy as jnp\n",
    "import numpy as np"
   ]
  },
  {
   "cell_type": "code",
   "execution_count": 37,
   "metadata": {},
   "outputs": [],
   "source": [
    "class Node:\n",
    "    def __init__(self, bias, in_weights, out_weights, id):\n",
    "        \"\"\"\n",
    "        Setup for simple node\n",
    "        We get inputs from other nodes and outputs to other nodes\n",
    "        The nummber and connection nodes in training should dynamically change\n",
    "        The processing inside is not fixed and will be either an embedding or attention\n",
    "        To close mimic real neurons the activation will also have a deacay time\n",
    "\n",
    "        This architecture is still in development only some features will be added for now\n",
    "        so debugging is simmpler\n",
    "\n",
    "        The inputs aggregate into a single state.\n",
    "        \"\"\"\n",
    "        # setup\n",
    "        self.bias = bias # float\n",
    "        self.in_weights = in_weights # float tensor\n",
    "        self.out_weights = out_weights # float tensor\n",
    "\n",
    "        # processing\n",
    "        # Here development will happen\n",
    "        self.activation = 0 # float\n",
    "        self.id = id\n",
    "    \n",
    "    def processing(self, inputs):\n",
    "        \"\"\"\n",
    "        Processing of the inputs\n",
    "        \"\"\"\n",
    "        self.activation = jnp.dot(self.in_weights, inputs) + self.bias\n",
    "        outputs = jnp.dot(self.out_weights, self.activation)\n",
    "        return outputs\n",
    "    \n",
    "    def add_input(self, weight):\n",
    "        # TODO: Check\n",
    "        #Add a new input to the node\n",
    "        self.in_weights = jnp.append(self.in_weights, weight)\n",
    "        return None\n",
    "    \n",
    "    def add_output(self, weight):\n",
    "        # TODO: Check\n",
    "        #Add a new input to the node\n",
    "        self.out_weights = jnp.append(self.out_weights, weight)\n",
    "        return None\n",
    "    \n",
    "    def remove_input(self, index):\n",
    "        #TODO: Check\n",
    "        #Remove a input from the node\n",
    "        self.in_weights = jnp.delete(self.in_weights, index)\n",
    "        return None\n",
    "    \n",
    "    def remove_output(self, index):\n",
    "        #TODO: Check\n",
    "        # Remove a output from the node\n",
    "        self.out_weights = jnp.delete(self.out_weights, index)\n",
    "        return None\n",
    "    \n",
    "    def get_id(self):\n",
    "        return self.id\n",
    "\n",
    "    # debugging functions\n",
    "    def get_activation(self):\n",
    "        return self.activation \n",
    "    \n",
    "    def get_bias(self):\n",
    "        return self.bias\n",
    "    \n",
    "    def get_in_weights(self):\n",
    "        return self.in_weights\n",
    "    \n",
    "    def get_out_weights(self):\n",
    "        return self.out_weights"
   ]
  },
  {
   "cell_type": "code",
   "execution_count": 38,
   "metadata": {},
   "outputs": [],
   "source": [
    "# create a node\n",
    "# 3 inputs, 3 outputs\n",
    "Node1 = Node(0, jnp.array([0.1, 0.2, 0.3]), jnp.array([0.1, 0.2, 0.3]), 0)\n",
    "# 3 inputs, 1 outputs\n",
    "Node2 = Node(0, jnp.array([0.1, 0.2, 0.3]), jnp.array([0.1]), 1)\n"
   ]
  },
  {
   "cell_type": "code",
   "execution_count": 39,
   "metadata": {},
   "outputs": [
    {
     "name": "stdout",
     "output_type": "stream",
     "text": [
      "[0.14000002 0.28000003 0.42000005]\n",
      "[0.14000002]\n"
     ]
    }
   ],
   "source": [
    "# Test for node\n",
    "x = jnp.array([1, 2, 3])\n",
    "print(Node1.processing(x))\n",
    "print(Node2.processing(x))"
   ]
  },
  {
   "cell_type": "code",
   "execution_count": 49,
   "metadata": {},
   "outputs": [],
   "source": [
    "class ComputationTree:\n",
    "    def __init__(self, nodes: list[Node] = None):\n",
    "        \"\"\"\n",
    "        This class saves and edits the computation tree of the nodes\n",
    "        Meaning it saves the connections between the nodes\n",
    "        Additionally it displays neighboring nodes needed for training\n",
    "        \"\"\"\n",
    "        # TODO : Code for when no nodes are given\n",
    "        # TODO : Make compatible with node ids\n",
    "        self.nodes = nodes # jnp.array of nodes\n",
    "        self.connections = jnp.zeros((len(nodes), len(nodes))) # directional adjecency matrix, row \n",
    "\n",
    "    def add_node(self, node):\n",
    "        #TODO: Check\n",
    "        \"\"\"\n",
    "        Add a new node to the computation tree\n",
    "        \"\"\"\n",
    "        self.nodes.append(node)\n",
    "        # not connected to any node\n",
    "        self.connections = jnp.append(self.connections, jnp.zeros((len(self.connections), 1)), axis=1)\n",
    "        self.connections = jnp.append(self.connections, jnp.zeros((1, len(self.connections[0]))), axis=0)\n",
    "        return None\n",
    "    \n",
    "    def remove_node(self, index):\n",
    "        self.nodes.delete(index)\n",
    "        self.connections = jnp.delete(self.connections, index, axis=0)\n",
    "        self.connections = jnp.delete(self.connections, index, axis=1)\n",
    "        return None\n",
    "\n",
    "    def add_connection(self, node1, node2):\n",
    "        # get ids like addresses in connection\n",
    "        node1_id = int(node1.get_id())\n",
    "        node2_id = int(node2.get_id())\n",
    "\n",
    "        # add connection\n",
    "        self.connections = self.connections.at[node1_id, node2_id].set(1)\n",
    "        return None\n",
    "    \n",
    "    def get_neighbors(self, node, degree):\n",
    "        # get the neighbor of a certain degree of a node\n",
    "        # degree 1: direct neighbors, degree 2: neighbors of neighbors, ...\n",
    "\n",
    "        # init empty list to collect neighbors\n",
    "        neighbors = []\n",
    "\n",
    "        # recursive search\n",
    "        if degree == 1:\n",
    "            neighbors = list(jnp.where(self.connections[node.get_id()] == 1)[0])\n",
    "        else:\n",
    "            cur_neighbors = list(jnp.where(self.connections[node.get_id()] == 1)[0])\n",
    "            # go over neighbors\n",
    "            for cur_neighbor in cur_neighbors:\n",
    "                neighbors.extend(self.get_neighbors(self.nodes[cur_neighbor], degree - 1))\n",
    "        return neighbors\n",
    "        \n",
    "    # debugging functions\n",
    "    def print_connections(self):\n",
    "        print(self.connections)\n",
    "        return None"
   ]
  },
  {
   "cell_type": "code",
   "execution_count": 50,
   "metadata": {},
   "outputs": [],
   "source": [
    "# Create a few more nodes for testing\n",
    "Node3 = Node(0, jnp.array([0.1, 0.2, 0.3]), jnp.array([0.1, 0.2, 0.3]), 2)\n",
    "Node4 = Node(0, jnp.array([0.1, 0.2, 0.3]), jnp.array([0.1, 0.2, 0.3]), 3)\n",
    "Node5 = Node(0, jnp.array([0.1, 0.2, 0.3]), jnp.array([0.1, 0.2, 0.3]), 4)"
   ]
  },
  {
   "cell_type": "code",
   "execution_count": 51,
   "metadata": {},
   "outputs": [
    {
     "ename": "TypeError",
     "evalue": "'<class 'jaxlib.xla_extension.ArrayImpl'>' object does not support item assignment. JAX arrays are immutable. Instead of ``x[idx] = y``, use ``x = x.at[idx].set(y)`` or another .at[] method: https://jax.readthedocs.io/en/latest/_autosummary/jax.numpy.ndarray.at.html",
     "output_type": "error",
     "traceback": [
      "\u001b[1;31m---------------------------------------------------------------------------\u001b[0m",
      "\u001b[1;31mTypeError\u001b[0m                                 Traceback (most recent call last)",
      "Cell \u001b[1;32mIn[51], line 4\u001b[0m\n\u001b[0;32m      2\u001b[0m nodes \u001b[38;5;241m=\u001b[39m [Node1, Node2, Node3, Node4, Node5] \u001b[38;5;66;03m# used nodes\u001b[39;00m\n\u001b[0;32m      3\u001b[0m CT \u001b[38;5;241m=\u001b[39m ComputationTree(nodes)\n\u001b[1;32m----> 4\u001b[0m \u001b[43mCT\u001b[49m\u001b[38;5;241;43m.\u001b[39;49m\u001b[43madd_connection\u001b[49m\u001b[43m(\u001b[49m\u001b[43mNode1\u001b[49m\u001b[43m,\u001b[49m\u001b[43m \u001b[49m\u001b[43mNode2\u001b[49m\u001b[43m)\u001b[49m\n\u001b[0;32m      5\u001b[0m CT\u001b[38;5;241m.\u001b[39madd_connection(Node2, Node3)\n\u001b[0;32m      6\u001b[0m CT\u001b[38;5;241m.\u001b[39madd_connection(Node3, Node4)\n",
      "Cell \u001b[1;32mIn[49], line 36\u001b[0m, in \u001b[0;36mComputationTree.add_connection\u001b[1;34m(self, node1, node2)\u001b[0m\n\u001b[0;32m     33\u001b[0m node2_id \u001b[38;5;241m=\u001b[39m \u001b[38;5;28mint\u001b[39m(node2\u001b[38;5;241m.\u001b[39mget_id())\n\u001b[0;32m     35\u001b[0m \u001b[38;5;66;03m# add connection\u001b[39;00m\n\u001b[1;32m---> 36\u001b[0m \u001b[38;5;28;43mself\u001b[39;49m\u001b[38;5;241;43m.\u001b[39;49m\u001b[43mconnections\u001b[49m\u001b[43m[\u001b[49m\u001b[43mnode1_id\u001b[49m\u001b[43m]\u001b[49m\u001b[43m[\u001b[49m\u001b[43mnode2_id\u001b[49m\u001b[43m]\u001b[49m \u001b[38;5;241m=\u001b[39m \u001b[38;5;241m1\u001b[39m\n\u001b[0;32m     37\u001b[0m \u001b[38;5;28;01mreturn\u001b[39;00m \u001b[38;5;28;01mNone\u001b[39;00m\n",
      "File \u001b[1;32mc:\\Users\\leonh\\anaconda3\\envs\\self_expanding_NN\\Lib\\site-packages\\jax\\_src\\numpy\\array_methods.py:279\u001b[0m, in \u001b[0;36m_unimplemented_setitem\u001b[1;34m(self, i, x)\u001b[0m\n\u001b[0;32m    274\u001b[0m \u001b[38;5;28;01mdef\u001b[39;00m \u001b[38;5;21m_unimplemented_setitem\u001b[39m(\u001b[38;5;28mself\u001b[39m, i, x):\n\u001b[0;32m    275\u001b[0m   msg \u001b[38;5;241m=\u001b[39m (\u001b[38;5;124m\"\u001b[39m\u001b[38;5;124m'\u001b[39m\u001b[38;5;132;01m{}\u001b[39;00m\u001b[38;5;124m'\u001b[39m\u001b[38;5;124m object does not support item assignment. JAX arrays are \u001b[39m\u001b[38;5;124m\"\u001b[39m\n\u001b[0;32m    276\u001b[0m          \u001b[38;5;124m\"\u001b[39m\u001b[38;5;124mimmutable. Instead of ``x[idx] = y``, use ``x = x.at[idx].set(y)`` \u001b[39m\u001b[38;5;124m\"\u001b[39m\n\u001b[0;32m    277\u001b[0m          \u001b[38;5;124m\"\u001b[39m\u001b[38;5;124mor another .at[] method: \u001b[39m\u001b[38;5;124m\"\u001b[39m\n\u001b[0;32m    278\u001b[0m          \u001b[38;5;124m\"\u001b[39m\u001b[38;5;124mhttps://jax.readthedocs.io/en/latest/_autosummary/jax.numpy.ndarray.at.html\u001b[39m\u001b[38;5;124m\"\u001b[39m)\n\u001b[1;32m--> 279\u001b[0m   \u001b[38;5;28;01mraise\u001b[39;00m \u001b[38;5;167;01mTypeError\u001b[39;00m(msg\u001b[38;5;241m.\u001b[39mformat(\u001b[38;5;28mtype\u001b[39m(\u001b[38;5;28mself\u001b[39m)))\n",
      "\u001b[1;31mTypeError\u001b[0m: '<class 'jaxlib.xla_extension.ArrayImpl'>' object does not support item assignment. JAX arrays are immutable. Instead of ``x[idx] = y``, use ``x = x.at[idx].set(y)`` or another .at[] method: https://jax.readthedocs.io/en/latest/_autosummary/jax.numpy.ndarray.at.html"
     ]
    }
   ],
   "source": [
    "# Test prep for ComputationTree\n",
    "nodes = [Node1, Node2, Node3, Node4, Node5] # used nodes\n",
    "CT = ComputationTree(nodes)\n",
    "CT.add_connection(Node1, Node2)\n",
    "CT.add_connection(Node2, Node3)\n",
    "CT.add_connection(Node3, Node4)\n",
    "CT.add_connection(Node4, Node5)\n"
   ]
  },
  {
   "cell_type": "code",
   "execution_count": 52,
   "metadata": {},
   "outputs": [
    {
     "name": "stdout",
     "output_type": "stream",
     "text": [
      "[[0. 0. 0. 0. 0.]\n",
      " [0. 0. 0. 0. 0.]\n",
      " [0. 0. 0. 0. 0.]\n",
      " [0. 0. 0. 0. 0.]\n",
      " [0. 0. 0. 0. 0.]]\n"
     ]
    }
   ],
   "source": [
    "# Test ComputationTree\n",
    "CT.print_connections()"
   ]
  },
  {
   "cell_type": "code",
   "execution_count": 44,
   "metadata": {},
   "outputs": [],
   "source": [
    "# resume development after compuleting computation Tree\n",
    "class Cluster:\n",
    "    def __init__(self, input, outputs, num_nodes):\n",
    "        \"\"\"\n",
    "        This creates a cluster of nodes\n",
    "        The cluster will have an input and output\n",
    "        these are either connected to other clusters or inference for the user\n",
    "        \"\"\"\n",
    "\n",
    "    def processing(self, inputs):\n",
    "        \"\"\"\n",
    "        Run one cycle with all nodes\n",
    "        \"\"\"\n",
    "        pass\n",
    "\n",
    "    def expand(self):\n",
    "        \"\"\"\n",
    "        Expands the Cluster depending on information density\n",
    "        and the surrounding nodes\n",
    "        \"\"\"\n",
    "        pass\n",
    "\n",
    "    def connections(self):\n",
    "        pass\n",
    "    \n",
    "    def get_nodes(self):\n",
    "        pass\n"
   ]
  }
 ],
 "metadata": {
  "kernelspec": {
   "display_name": "numpy_tutorial",
   "language": "python",
   "name": "python3"
  },
  "language_info": {
   "codemirror_mode": {
    "name": "ipython",
    "version": 3
   },
   "file_extension": ".py",
   "mimetype": "text/x-python",
   "name": "python",
   "nbconvert_exporter": "python",
   "pygments_lexer": "ipython3",
   "version": "3.12.4"
  }
 },
 "nbformat": 4,
 "nbformat_minor": 2
}
