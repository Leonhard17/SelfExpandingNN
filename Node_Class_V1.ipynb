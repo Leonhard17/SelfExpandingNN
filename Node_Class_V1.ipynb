{
 "cells": [
  {
   "cell_type": "code",
   "execution_count": 14,
   "metadata": {},
   "outputs": [],
   "source": [
    "import jax\n",
    "import jax.numpy as jnp\n",
    "import numpy as np"
   ]
  },
  {
   "cell_type": "code",
   "execution_count": 15,
   "metadata": {},
   "outputs": [],
   "source": [
    "class Node:\n",
    "    def __init__(self, bias, in_weights, out_weights, id):\n",
    "        \"\"\"\n",
    "        Setup for simple node\n",
    "        We get inputs from other nodes and outputs to other nodes\n",
    "        The nummber and connection nodes in training should dynamically change\n",
    "        The processing inside is not fixed and will be either an embedding or attention\n",
    "        To close mimic real neurons the activation will also have a deacay time\n",
    "\n",
    "        This architecture is still in development only some features will be added for now\n",
    "        so debugging is simmpler\n",
    "\n",
    "        The inputs aggregate into a single state.\n",
    "        \"\"\"\n",
    "        # setup\n",
    "        self.bias = bias # float\n",
    "        self.in_weights = in_weights # float tensor\n",
    "        self.out_weights = out_weights # float tensor\n",
    "\n",
    "        # processing\n",
    "        # Here development will happen\n",
    "        self.activation = 0 # float\n",
    "    \n",
    "    def processing(self, inputs):\n",
    "        \"\"\"\n",
    "        Processing of the inputs\n",
    "        \"\"\"\n",
    "        self.activation = jnp.dot(self.in_weights, inputs) + self.bias\n",
    "        outputs = jnp.dot(self.out_weights, self.activation)\n",
    "        return outputs\n",
    "    \n",
    "    def add_input(self, weight):\n",
    "        # TODO: Check\n",
    "        #Add a new input to the node\n",
    "        self.in_weights = jnp.append(self.in_weights, weight)\n",
    "        return None\n",
    "    \n",
    "    def add_output(self, weight):\n",
    "        # TODO: Check\n",
    "        #Add a new input to the node\n",
    "        self.out_weights = jnp.append(self.out_weights, weight)\n",
    "        return None\n",
    "    \n",
    "    def remove_input(self, index):\n",
    "        #TODO: Check\n",
    "        #Remove a input from the node\n",
    "        self.in_weights = jnp.delete(self.in_weights, index)\n",
    "        return None\n",
    "    \n",
    "    def remove_output(self, index):\n",
    "        #TODO: Check\n",
    "        # Remove a output from the node\n",
    "        self.out_weights = jnp.delete(self.out_weights, index)\n",
    "        return None\n",
    "    \n",
    "    def get_id(self):\n",
    "        return self.id\n",
    "\n",
    "    # debugging functions\n",
    "    def get_activation(self):\n",
    "        return self.activation \n",
    "    \n",
    "    def get_bias(self):\n",
    "        return self.bias\n",
    "    \n",
    "    def get_in_weights(self):\n",
    "        return self.in_weights\n",
    "    \n",
    "    def get_out_weights(self):\n",
    "        return self.out_weights"
   ]
  },
  {
   "cell_type": "code",
   "execution_count": 16,
   "metadata": {},
   "outputs": [],
   "source": [
    "# create a node\n",
    "# 3 inputs, 3 outputs\n",
    "Node1 = Node(0, jnp.array([0.1, 0.2, 0.3]), jnp.array([0.1, 0.2, 0.3]), 0)\n",
    "# 3 inputs, 1 outputs\n",
    "Node2 = Node(0, jnp.array([0.1, 0.2, 0.3]), jnp.array([0.1]), 1)\n"
   ]
  },
  {
   "cell_type": "code",
   "execution_count": 17,
   "metadata": {},
   "outputs": [
    {
     "name": "stdout",
     "output_type": "stream",
     "text": [
      "[0.14000002 0.28000003 0.42000005]\n",
      "[0.14000002]\n"
     ]
    }
   ],
   "source": [
    "# Test for node\n",
    "x = jnp.array([1, 2, 3])\n",
    "print(Node1.processing(x))\n",
    "print(Node2.processing(x))"
   ]
  },
  {
   "cell_type": "code",
   "execution_count": null,
   "metadata": {},
   "outputs": [],
   "source": [
    "class ComputationTree:\n",
    "    def __init__(self, nodes):\n",
    "        \"\"\"\n",
    "        This class saves and edits the computation tree of the nodes\n",
    "        Meaning it saves the connections between the nodes\n",
    "        Additionally it displays neighboring nodes needed for training\n",
    "        \"\"\"\n",
    "        self.nodes = nodes # jnp.array of nodes\n",
    "        self.connections = jnp.zeros((len(nodes), len(nodes))) # directional adjecency matrix, row \n",
    "\n",
    "    def add_node(self, node):\n",
    "        #TODO: Check\n",
    "        \"\"\"\n",
    "        Add a new node to the computation tree\n",
    "        \"\"\"\n",
    "        self.nodes.append(node)\n",
    "        # not connected to any node\n",
    "        self.connections = jnp.append(self.connections, jnp.zeros((len(self.connections), 1)), axis=1)\n",
    "        self.connections = jnp.append(self.connections, jnp.zeros((1, len(self.connections[0]))), axis=0)\n",
    "        return None\n",
    "    \n",
    "    def remove_node(self, index):\n",
    "        self.nodes.delete(index)\n",
    "        self.connections = jnp.delete(self.connections, index, axis=0)\n",
    "        self.connections = jnp.delete(self.connections, index, axis=1)\n",
    "        return None\n",
    "    \n",
    "    def add_connection(self, node1, node2):\n",
    "        # get ids like addresses in connection\n",
    "        node1_id = node1.get_id()\n",
    "        node2_id = node2.get_id()\n",
    "\n",
    "        # add connection\n",
    "        self.connections[node1_id][node2_id] = 1\n",
    "        return None\n",
    "    \n",
    "    def get_neighbors(self, node, degree):\n",
    "        # get the neighbor of a certain degree of a node\n",
    "        # degree 1: direct neighbors, degree 2: neighbors of neighbors, ...\n",
    "        if degree == 1:\n",
    "            neighbors = jnp.where(self.connections[node.get_id()] == 1)\n",
    "        \n",
    "\n",
    "\n"
   ]
  },
  {
   "cell_type": "code",
   "execution_count": 26,
   "metadata": {},
   "outputs": [
    {
     "name": "stdout",
     "output_type": "stream",
     "text": [
      "[0.014      0.028      0.04200001]\n",
      "0.14000002\n"
     ]
    }
   ],
   "source": [
    "# resume development after compuleting computation Tree\n",
    "class Cluster:\n",
    "    def __init__(self, input, outputs, num_nodes):\n",
    "        \"\"\"\n",
    "        This creates a cluster of nodes\n",
    "        The cluster will have an input and output\n",
    "        these are either connected to other clusters or inference for the user\n",
    "        \"\"\"\n",
    "\n",
    "    def processing(self, inputs):\n",
    "        \"\"\"\n",
    "        Run one cycle with all nodes\n",
    "        \"\"\"\n",
    "        pass\n",
    "\n",
    "    def expand(self):\n",
    "        \"\"\"\n",
    "        Expands the Cluster depending on information density\n",
    "        and the surrounding nodes\n",
    "        \"\"\"\n",
    "        pass\n",
    "\n",
    "    def connections(self):\n",
    "        pass\n",
    "    \n",
    "    def get_nodes(self):\n",
    "        pass\n"
   ]
  }
 ],
 "metadata": {
  "kernelspec": {
   "display_name": "numpy_tutorial",
   "language": "python",
   "name": "python3"
  },
  "language_info": {
   "codemirror_mode": {
    "name": "ipython",
    "version": 3
   },
   "file_extension": ".py",
   "mimetype": "text/x-python",
   "name": "python",
   "nbconvert_exporter": "python",
   "pygments_lexer": "ipython3",
   "version": "3.12.4"
  }
 },
 "nbformat": 4,
 "nbformat_minor": 2
}
