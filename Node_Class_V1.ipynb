{
 "cells": [
  {
   "cell_type": "code",
   "execution_count": 11,
   "metadata": {},
   "outputs": [],
   "source": [
    "import jax\n",
    "import jax.numpy as jnp\n",
    "import numpy as np"
   ]
  },
  {
   "cell_type": "code",
   "execution_count": 12,
   "metadata": {},
   "outputs": [],
   "source": [
    "class Node:\n",
    "    def __init__(self, bias, in_weights, out_weights):\n",
    "        \"\"\"\n",
    "        Setup for simple node\n",
    "        We get inputs from other nodes and outputs to other nodes\n",
    "        The nummber and connection nodes in training should dynamically change\n",
    "        The processing inside is not fixed and will be either an embedding or attention\n",
    "        To close mimic real neurons the activation will also have a deacay time\n",
    "\n",
    "        This architecture is still in development only some features will be added for now\n",
    "        so debugging is simmpler\n",
    "\n",
    "        The inputs aggregate into a single state.\n",
    "        \"\"\"\n",
    "        # setup\n",
    "        self.bias = bias # float\n",
    "        self.in_weights = in_weights # float tensor\n",
    "        self.out_weights = out_weights# float tensor\n",
    "\n",
    "        # processing\n",
    "        # Here development will happen\n",
    "        self.activation = 0 # float\n",
    "    \n",
    "    def processing(self, inputs):\n",
    "        \"\"\"\n",
    "        Processing of the inputs\n",
    "        \"\"\"\n",
    "        self.activation = jnp.dot(self.in_weights, inputs) + self.bias\n",
    "        outputs = jnp.dot(self.activation, self.out_weights)\n",
    "        return outputs\n",
    "    \n",
    "    # debugging functions\n",
    "    def get_activation(self):\n",
    "        return self.activation \n",
    "    \n",
    "    def get_bias(self):\n",
    "        return self.bias\n",
    "    \n",
    "    def get_in_weights(self):\n",
    "        return self.in_weights\n",
    "    \n",
    "    def get_out_weights(self):\n",
    "        return self.out_weights"
   ]
  },
  {
   "cell_type": "code",
   "execution_count": 13,
   "metadata": {},
   "outputs": [],
   "source": [
    "# create a node\n",
    "Node1 = Node(0.1, jnp.array([0.1, 0.2, 0.3]), jnp.array([0.1, 0.2, 0.3]))"
   ]
  },
  {
   "cell_type": "code",
   "execution_count": 16,
   "metadata": {},
   "outputs": [
    {
     "name": "stdout",
     "output_type": "stream",
     "text": [
      "0.24000001\n",
      "0.24000001\n"
     ]
    }
   ],
   "source": [
    "inputs = jnp.array([0.1, 0.2, 0.3])\n",
    "outputs = Node1.processing(inputs)\n",
    "print(outputs)\n",
    "print(Node1.get_activation())"
   ]
  }
 ],
 "metadata": {
  "kernelspec": {
   "display_name": "numpy_tutorial",
   "language": "python",
   "name": "python3"
  },
  "language_info": {
   "codemirror_mode": {
    "name": "ipython",
    "version": 3
   },
   "file_extension": ".py",
   "mimetype": "text/x-python",
   "name": "python",
   "nbconvert_exporter": "python",
   "pygments_lexer": "ipython3",
   "version": "3.9.18"
  }
 },
 "nbformat": 4,
 "nbformat_minor": 2
}
