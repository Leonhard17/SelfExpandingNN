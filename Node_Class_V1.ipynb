{
 "cells": [
  {
   "cell_type": "code",
   "execution_count": 61,
   "metadata": {},
   "outputs": [],
   "source": [
    "import jax\n",
    "import jax.numpy as jnp\n",
    "import numpy as np"
   ]
  },
  {
   "cell_type": "code",
   "execution_count": 73,
   "metadata": {},
   "outputs": [],
   "source": [
    "class Node:\n",
    "    def __init__(self, bias, in_weights, out_weights, id):\n",
    "        \"\"\"\n",
    "        Setup for simple node\n",
    "        We get inputs from other nodes and outputs to other nodes\n",
    "        The nummber and connection nodes in training should dynamically change\n",
    "        The processing inside is not fixed and will be either an embedding or attention\n",
    "        To close mimic real neurons the activation will also have a deacay time\n",
    "\n",
    "        This architecture is still in development only some features will be added for now\n",
    "        so debugging is simmpler\n",
    "\n",
    "        The inputs aggregate into a single state.\n",
    "        \"\"\"\n",
    "        # setup\n",
    "        self.bias = bias # float\n",
    "        self.in_weights = in_weights # float tensor\n",
    "        self.out_weights = out_weights # float tensor\n",
    "\n",
    "        # processing\n",
    "        # Here development will happen\n",
    "        self.activation = 0 # float\n",
    "\n",
    "        # used in other classes\n",
    "        self.id = id\n",
    "    \n",
    "# Run functions\n",
    "    def run(self, inputs):\n",
    "        # processing inputs and computing next step\n",
    "        self.activation = jnp.dot(self.in_weights, inputs) + self.bias\n",
    "        outputs = jnp.dot(self.out_weights, self.activation)\n",
    "        return outputs\n",
    "    \n",
    "# Topology functions\n",
    "    # TODO: Change so that it's connection wise\n",
    "    # TODO: Check if functions work\n",
    "    def add_input(self, weight):\n",
    "        #Add a new input to the node\n",
    "        self.in_weights = jnp.append(self.in_weights, weight)\n",
    "        return None\n",
    "    \n",
    "    def add_output(self, weight):\n",
    "        #Add a new input to the node\n",
    "        self.out_weights = jnp.append(self.out_weights, weight)\n",
    "        return None\n",
    "    \n",
    "    def remove_input(self, index):\n",
    "        #Remove a input from the node\n",
    "        self.in_weights = jnp.delete(self.in_weights, index)\n",
    "        return None\n",
    "    \n",
    "    def remove_output(self, index):\n",
    "        # Remove a output from the node\n",
    "        self.out_weights = jnp.delete(self.out_weights, index)\n",
    "        return None\n",
    "\n",
    "# Get functions\n",
    "    def get_id(self):\n",
    "        return self.id\n",
    "\n",
    "# Debugging functions\n",
    "    def get_activation(self):\n",
    "        return self.activation \n",
    "    \n",
    "    def get_bias(self):\n",
    "        return self.bias\n",
    "    \n",
    "    def get_in_weights(self):\n",
    "        return self.in_weights\n",
    "    \n",
    "    def get_out_weights(self):\n",
    "        return self.out_weights\n",
    "    \n",
    "    def get_input_size(self):\n",
    "        return self.in_weights.size\n",
    "    \n",
    "    def get_output_size(self):\n",
    "        return self.out_weights.size\n",
    "    \n",
    "    def print_node(self):\n",
    "        # Gives a overview of the node\n",
    "        print(\"Node id: \", self.id)\n",
    "        print(\"Activation: \", self.activation)\n",
    "        print(\"Bias: \", self.bias)\n",
    "        print(\"Inputs: \", self.in_weights)\n",
    "        print(\"Outputs: \", self.out_weights)\n",
    "        return None"
   ]
  },
  {
   "cell_type": "code",
   "execution_count": 79,
   "metadata": {},
   "outputs": [],
   "source": [
    "# create a node\n",
    "# 3 inputs, 3 outputs\n",
    "Node0 = Node(0, jnp.array([0.1, 0.2, 0.3]), jnp.array([0.1, 0.2, 0.3]), 0)\n",
    "# 3 inputs, 1 outputs\n",
    "Node1 = Node(0, jnp.array([0.1, 0.2, 0.3]), jnp.array([0.1]), 1)\n"
   ]
  },
  {
   "cell_type": "code",
   "execution_count": 80,
   "metadata": {},
   "outputs": [
    {
     "name": "stdout",
     "output_type": "stream",
     "text": [
      "Node id:  0\n",
      "Bias:  0\n",
      "Inputs:  [0.1 0.2 0.3]\n",
      "Outputs:  [0.1 0.2 0.3]\n",
      "Activation:  0\n",
      "Node id:  0\n",
      "Bias:  0\n",
      "Inputs:  [0.2 0.3]\n",
      "Outputs:  [0.1 0.2 0.3]\n",
      "Activation:  0\n",
      "Node id:  0\n",
      "Bias:  0\n",
      "Inputs:  [0.2 0.3]\n",
      "Outputs:  [0.1 0.2 0.3 0.5]\n",
      "Activation:  0\n"
     ]
    }
   ],
   "source": [
    "Node0.print_node()\n",
    "Node0.remove_input(0)\n",
    "Node0.print_node()\n",
    "Node0.add_output(0.5)\n",
    "Node0.print_node()"
   ]
  },
  {
   "cell_type": "code",
   "execution_count": 64,
   "metadata": {},
   "outputs": [
    {
     "name": "stdout",
     "output_type": "stream",
     "text": [
      "[0.14000002 0.28000003 0.42000005]\n",
      "[0.14000002]\n"
     ]
    }
   ],
   "source": [
    "# Test for node\n",
    "x = jnp.array([1, 2, 3])\n",
    "print(Node0.processing(x))\n",
    "print(Node1.processing(x))"
   ]
  },
  {
   "cell_type": "code",
   "execution_count": 65,
   "metadata": {},
   "outputs": [],
   "source": [
    "class ComputationTree:\n",
    "    def __init__(self, nodes: list[Node] = None):\n",
    "        \"\"\"\n",
    "        This class saves and edits the computation tree of the nodes\n",
    "        Meaning it saves the connections between the nodes\n",
    "        Additionally it displays neighboring nodes needed for training\n",
    "        \"\"\"\n",
    "        # TODO : Code for when no nodes are given\n",
    "        # TODO : Make compatible with node ids\n",
    "        self.nodes = nodes # jnp.array of nodes\n",
    "        self.connections = jnp.zeros((len(nodes), len(nodes))) # directional adjecency matrix, row \n",
    "\n",
    "    def add_node(self, node):\n",
    "        #TODO: Check\n",
    "        \"\"\"\n",
    "        Add a new node to the computation tree\n",
    "        \"\"\"\n",
    "        self.nodes.append(node)\n",
    "        # not connected to any node\n",
    "        self.connections = jnp.append(self.connections, jnp.zeros((len(self.connections), 1)), axis=1)\n",
    "        self.connections = jnp.append(self.connections, jnp.zeros((1, len(self.connections[0]))), axis=0)\n",
    "        return None\n",
    "    \n",
    "    def remove_node(self, index):\n",
    "        self.nodes.delete(index)\n",
    "        self.connections = jnp.delete(self.connections, index, axis=0)\n",
    "        self.connections = jnp.delete(self.connections, index, axis=1)\n",
    "        return None\n",
    "\n",
    "    def add_connection(self, node1, node2):\n",
    "        # get ids like addresses in connection\n",
    "        node1_id = int(node1.get_id())\n",
    "        node2_id = int(node2.get_id())\n",
    "\n",
    "        # add connection\n",
    "        self.connections = self.connections.at[node1_id, node2_id].set(1)\n",
    "        return None\n",
    "    \n",
    "    def get_neighbors(self, node, degree):\n",
    "        # get the neighbor of a certain degree of a node\n",
    "        # degree 1: direct neighbors, degree 2: neighbors of neighbors, ...\n",
    "\n",
    "        # init empty list to collect neighbors\n",
    "        neighbors = []\n",
    "\n",
    "        # recursive search\n",
    "        if degree == 1:\n",
    "            neighbors = list(jnp.where(self.connections[node.get_id()] == 1)[0])\n",
    "        else:\n",
    "            cur_neighbors = list(jnp.where(self.connections[node.get_id()] == 1)[0])\n",
    "            # go over neighbors\n",
    "            for cur_neighbor in cur_neighbors:\n",
    "                neighbors.extend(self.get_neighbors(self.nodes[cur_neighbor], degree - 1))\n",
    "        return neighbors\n",
    "        \n",
    "    # debugging functions\n",
    "    def print_connections(self):\n",
    "        print(self.connections)\n",
    "        return None"
   ]
  },
  {
   "cell_type": "code",
   "execution_count": 66,
   "metadata": {},
   "outputs": [],
   "source": [
    "# Create a few more nodes for testing\n",
    "Node2 = Node(0, jnp.array([0.1, 0.2, 0.3]), jnp.array([0.1, 0.2, 0.3]), 2)\n",
    "Node3 = Node(0, jnp.array([0.1, 0.2, 0.3]), jnp.array([0.1, 0.2, 0.3]), 3)\n",
    "Node4 = Node(0, jnp.array([0.1, 0.2, 0.3]), jnp.array([0.1, 0.2, 0.3]), 4)"
   ]
  },
  {
   "cell_type": "code",
   "execution_count": 67,
   "metadata": {},
   "outputs": [],
   "source": [
    "# Test prep for ComputationTree\n",
    "nodes = [Node0, Node1, Node2, Node3, Node4] # used nodes\n",
    "CT = ComputationTree(nodes)\n",
    "CT.add_connection(Node0, Node1)\n",
    "CT.add_connection(Node1, Node2)\n",
    "CT.add_connection(Node0, Node3)\n",
    "CT.add_connection(Node3, Node4)"
   ]
  },
  {
   "cell_type": "code",
   "execution_count": 71,
   "metadata": {},
   "outputs": [
    {
     "name": "stdout",
     "output_type": "stream",
     "text": [
      "[[0. 1. 0. 1. 0.]\n",
      " [0. 0. 1. 0. 0.]\n",
      " [0. 0. 0. 0. 0.]\n",
      " [0. 0. 0. 0. 1.]\n",
      " [0. 0. 0. 0. 0.]]\n",
      "[Array(2, dtype=int32), Array(4, dtype=int32)]\n"
     ]
    }
   ],
   "source": [
    "# Test ComputationTree\n",
    "CT.print_connections()\n",
    "print(CT.get_neighbors(Node0, 2))"
   ]
  },
  {
   "cell_type": "code",
   "execution_count": 69,
   "metadata": {},
   "outputs": [],
   "source": [
    "# resume development after compuleting computation Tree\n",
    "class Cluster:\n",
    "    def __init__(self, input, outputs, num_nodes):\n",
    "        \"\"\"\n",
    "        This creates a cluster of nodes\n",
    "        The cluster will have an input and output\n",
    "        these are either connected to other clusters or inference for the user\n",
    "        \"\"\"\n",
    "\n",
    "    def processing(self, inputs):\n",
    "        \"\"\"\n",
    "        Run one cycle with all nodes\n",
    "        \"\"\"\n",
    "        pass\n",
    "\n",
    "    def expand(self):\n",
    "        \"\"\"\n",
    "        Expands the Cluster depending on information density\n",
    "        and the surrounding nodes\n",
    "        \"\"\"\n",
    "        pass\n",
    "\n",
    "    def connections(self):\n",
    "        pass\n",
    "    \n",
    "    def get_nodes(self):\n",
    "        pass\n"
   ]
  }
 ],
 "metadata": {
  "kernelspec": {
   "display_name": "numpy_tutorial",
   "language": "python",
   "name": "python3"
  },
  "language_info": {
   "codemirror_mode": {
    "name": "ipython",
    "version": 3
   },
   "file_extension": ".py",
   "mimetype": "text/x-python",
   "name": "python",
   "nbconvert_exporter": "python",
   "pygments_lexer": "ipython3",
   "version": "3.12.4"
  }
 },
 "nbformat": 4,
 "nbformat_minor": 2
}
