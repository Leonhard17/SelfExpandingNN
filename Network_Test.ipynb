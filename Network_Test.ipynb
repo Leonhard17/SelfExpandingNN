{
 "cells": [
  {
   "cell_type": "code",
   "execution_count": 1,
   "metadata": {},
   "outputs": [],
   "source": [
    "# imports\n",
    "import jax\n",
    "import jax.numpy as jnp\n",
    "import numpy as np\n",
    "# Node and Network\n",
    "from Node import Node\n",
    "from Network import Cluster"
   ]
  },
  {
   "cell_type": "code",
   "execution_count": 2,
   "metadata": {},
   "outputs": [],
   "source": [
    "# Test of node class\n",
    "Node0 = Node(0.1, jnp.array([0.5]), jnp.array([0.5]), 0)"
   ]
  },
  {
   "cell_type": "code",
   "execution_count": 3,
   "metadata": {},
   "outputs": [],
   "source": [
    "# Create a few more nodes for testing\n",
    "Node0 = Node(0, jnp.array([]), jnp.array([]), 0)\n",
    "Node1 = Node(0, jnp.array([]), jnp.array([]), 1)\n",
    "Node2 = Node(0, jnp.array([]), jnp.array([]), 2)\n",
    "Node3 = Node(0, jnp.array([]), jnp.array([]), 3)\n",
    "Node4 = Node(0, jnp.array([]), jnp.array([]), 4)\n",
    "Node5 = Node(0, jnp.array([]), jnp.array([]), 5)\n",
    "nodes = [Node0, Node1, Node2, Node3, Node4, Node5]"
   ]
  },
  {
   "cell_type": "code",
   "execution_count": 4,
   "metadata": {},
   "outputs": [],
   "source": [
    "Cluster1 = Cluster(1, 1, nodes=nodes, init_net=False)\n"
   ]
  },
  {
   "cell_type": "code",
   "execution_count": 5,
   "metadata": {},
   "outputs": [],
   "source": [
    "Cluster1.add_connection(Node0, Node1)\n",
    "Cluster1.add_connection(Node1, Node2)\n",
    "Cluster1.add_connection(Node0, Node3)\n",
    "Cluster1.add_connection(Node1, Node0)\n",
    "Cluster1.add_connection(Node2, Node5)"
   ]
  },
  {
   "cell_type": "code",
   "execution_count": 6,
   "metadata": {},
   "outputs": [
    {
     "name": "stdout",
     "output_type": "stream",
     "text": [
      "[[0. 1. 0. 1. 0. 0.]\n",
      " [1. 0. 1. 0. 0. 0.]\n",
      " [0. 0. 0. 0. 0. 1.]\n",
      " [0. 0. 0. 0. 0. 0.]\n",
      " [0. 0. 0. 0. 0. 0.]\n",
      " [0. 0. 0. 0. 0. 0.]]\n"
     ]
    }
   ],
   "source": [
    "Cluster1.print_connections()"
   ]
  },
  {
   "cell_type": "code",
   "execution_count": 7,
   "metadata": {},
   "outputs": [
    {
     "data": {
      "text/plain": [
       "Array([2], dtype=int32)"
      ]
     },
     "execution_count": 7,
     "metadata": {},
     "output_type": "execute_result"
    }
   ],
   "source": [
    "Cluster1.get_neighbors(Node0, 2)"
   ]
  },
  {
   "cell_type": "code",
   "execution_count": 53,
   "metadata": {},
   "outputs": [
    {
     "name": "stdout",
     "output_type": "stream",
     "text": [
      "[0.01666667]\n",
      "Node:  0 Activation:  1.0666666\n",
      "Node:  1 Activation:  0.26666665\n",
      "Node:  2 Activation:  0.06666666\n",
      "Node:  3 Activation:  0.26666665\n",
      "Node:  4 Activation:  0.0\n",
      "Node:  5 Activation:  0.016666666\n"
     ]
    }
   ],
   "source": [
    "input = jnp.array([1])\n",
    "print(Cluster1.run(input))\n",
    "Cluster1.print_activations()"
   ]
  }
 ],
 "metadata": {
  "kernelspec": {
   "display_name": "self_expanding_NN",
   "language": "python",
   "name": "python3"
  },
  "language_info": {
   "codemirror_mode": {
    "name": "ipython",
    "version": 3
   },
   "file_extension": ".py",
   "mimetype": "text/x-python",
   "name": "python",
   "nbconvert_exporter": "python",
   "pygments_lexer": "ipython3",
   "version": "3.12.4"
  }
 },
 "nbformat": 4,
 "nbformat_minor": 2
}
